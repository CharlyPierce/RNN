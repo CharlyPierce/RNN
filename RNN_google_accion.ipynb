{
  "nbformat": 4,
  "nbformat_minor": 0,
  "metadata": {
    "colab": {
      "name": "RNN_google_accion.ipynb",
      "provenance": [],
      "collapsed_sections": [],
      "authorship_tag": "ABX9TyMdoWHLXA0wJX4eTs2rt/9f",
      "include_colab_link": true
    },
    "kernelspec": {
      "name": "python3",
      "display_name": "Python 3"
    },
    "accelerator": "TPU"
  },
  "cells": [
    {
      "cell_type": "markdown",
      "metadata": {
        "id": "view-in-github",
        "colab_type": "text"
      },
      "source": [
        "<a href=\"https://colab.research.google.com/github/CharlyPierce/RNN/blob/main/RNN_google_accion.ipynb\" target=\"_parent\"><img src=\"https://colab.research.google.com/assets/colab-badge.svg\" alt=\"Open In Colab\"/></a>"
      ]
    },
    {
      "cell_type": "markdown",
      "metadata": {
        "id": "9a2bKLixw5Tq"
      },
      "source": [
        "#LSTM-RNN"
      ]
    },
    {
      "cell_type": "code",
      "metadata": {
        "id": "AhG8oLn4Y2TA"
      },
      "source": [
        "import pandas as pd \n",
        "import numpy as np\n",
        "import matplotlib.pyplot as plt"
      ],
      "execution_count": null,
      "outputs": []
    },
    {
      "cell_type": "code",
      "metadata": {
        "id": "ygvpLjZJaDtG"
      },
      "source": [
        "ds_t=pd.read_csv('Google_Stock_Price_Train.csv')\n",
        "ds_te=pd.read_csv('Google_Stock_Price_Test.csv')"
      ],
      "execution_count": null,
      "outputs": []
    },
    {
      "cell_type": "code",
      "metadata": {
        "id": "aIODt0SgxrOx"
      },
      "source": [
        "x=ds_t.iloc[:,1:2].values\n",
        "y=ds_te.iloc[:,1:2].values\n",
        "#usamos normalizacion"
      ],
      "execution_count": null,
      "outputs": []
    },
    {
      "cell_type": "code",
      "metadata": {
        "id": "q6X1_TikyKf-"
      },
      "source": [
        "#Normalización\n",
        "from sklearn.preprocessing import MinMaxScaler\n",
        "sc=MinMaxScaler(feature_range=(0,1))\n",
        "xs=sc.fit_transform(x)\n",
        "ys=sc.transform(x)"
      ],
      "execution_count": null,
      "outputs": []
    },
    {
      "cell_type": "code",
      "metadata": {
        "id": "7P5QqQDU0G_C"
      },
      "source": [
        "#Crear una estructura de datos con 60 timesteps y 1 salida\n",
        "#60 dias atras para predecir el valor de accion\n",
        "x_t=[]\n",
        "y_t=[]\n",
        "for i in range(60,1257+1):\n",
        "  x_t.append(xs[i-60:i,0])\n",
        "  y_t.append(xs[i,0])\n",
        "x_t,y_t=np.array(x_t),np.array(y_t)"
      ],
      "execution_count": null,
      "outputs": []
    },
    {
      "cell_type": "code",
      "metadata": {
        "id": "00q5RWS41zVl"
      },
      "source": [
        "#dimesionalidad de estructura anterior\n",
        "x_train=np.reshape(x_t,(x_t.shape[0],x_t.shape[1],1))\n",
        "#la RNN necesita un tensor de 3 orden \n",
        "#en este caso en matriz con profundidad 1"
      ],
      "execution_count": null,
      "outputs": []
    },
    {
      "cell_type": "code",
      "metadata": {
        "id": "8Dgi6LcgF7Wf"
      },
      "source": [
        "#arquitectura de la RNN acomulado\n",
        "from keras.models import Sequential\n",
        "from keras.layers import Dense,LSTM,Dropout"
      ],
      "execution_count": null,
      "outputs": []
    },
    {
      "cell_type": "code",
      "metadata": {
        "id": "44ebFDdLIrCA"
      },
      "source": [
        "#inicializacion del modelo\n",
        "regresor=Sequential()\n",
        "regresor.add(LSTM(units=60,return_sequences=True,input_shape=(x_t.shape[1],1)))#No de celdas, neuronas,sequencia de retorno True\n",
        "regresor.add(Dropout(rate=0.3))\n",
        "#segunda capa de LSTM\n",
        "regresor.add(LSTM(units=60,return_sequences=True))\n",
        "regresor.add(Dropout(rate=0.2))\n",
        "#tercera capa de LSTM\n",
        "regresor.add(LSTM(units=60,return_sequences=True))\n",
        "regresor.add(Dropout(0.2))\n",
        "#ultima capa LSTM\n",
        "regresor.add(LSTM(units=60,return_sequences=False))\n",
        "regresor.add(Dropout(0.2))\n",
        "#Capa de Salida Densa\n",
        "regresor.add(Dense(units=1))"
      ],
      "execution_count": null,
      "outputs": []
    },
    {
      "cell_type": "code",
      "metadata": {
        "id": "2Eostz5NNAVp"
      },
      "source": [
        "#compilar\n",
        "regresor.compile(optimizer='adam',loss='mean_squared_error',metrics=['accuracy'])"
      ],
      "execution_count": null,
      "outputs": []
    },
    {
      "cell_type": "code",
      "metadata": {
        "id": "g8ly9GtQN9E0",
        "colab": {
          "base_uri": "https://localhost:8080/",
          "height": 1000
        },
        "outputId": "6552a868-a673-4e35-831c-aadf99205bc6"
      },
      "source": [
        "#entrenar \n",
        "regresor.fit(x_train,y_t,epochs=200,batch_size=25)"
      ],
      "execution_count": null,
      "outputs": [
        {
          "output_type": "stream",
          "text": [
            "Epoch 1/200\n",
            "1198/1198 [==============================] - 9s 8ms/step - loss: 0.0265 - accuracy: 0.0017\n",
            "Epoch 2/200\n",
            "1198/1198 [==============================] - 8s 6ms/step - loss: 0.0057 - accuracy: 0.0017\n",
            "Epoch 3/200\n",
            "1198/1198 [==============================] - 8s 6ms/step - loss: 0.0049 - accuracy: 0.0017\n",
            "Epoch 4/200\n",
            "1198/1198 [==============================] - 8s 6ms/step - loss: 0.0051 - accuracy: 0.0017\n",
            "Epoch 5/200\n",
            "1198/1198 [==============================] - 8s 6ms/step - loss: 0.0045 - accuracy: 0.0017\n",
            "Epoch 6/200\n",
            "1198/1198 [==============================] - 8s 6ms/step - loss: 0.0041 - accuracy: 0.0017\n",
            "Epoch 7/200\n",
            "1198/1198 [==============================] - 8s 7ms/step - loss: 0.0041 - accuracy: 0.0017\n",
            "Epoch 8/200\n",
            "1198/1198 [==============================] - 8s 6ms/step - loss: 0.0038 - accuracy: 0.0017\n",
            "Epoch 9/200\n",
            "1198/1198 [==============================] - 8s 6ms/step - loss: 0.0041 - accuracy: 0.0017\n",
            "Epoch 10/200\n",
            "1198/1198 [==============================] - 8s 6ms/step - loss: 0.0038 - accuracy: 0.0017\n",
            "Epoch 11/200\n",
            "1198/1198 [==============================] - 8s 6ms/step - loss: 0.0039 - accuracy: 0.0017\n",
            "Epoch 12/200\n",
            "1198/1198 [==============================] - 8s 6ms/step - loss: 0.0036 - accuracy: 0.0017\n",
            "Epoch 13/200\n",
            "1198/1198 [==============================] - 8s 6ms/step - loss: 0.0039 - accuracy: 0.0017\n",
            "Epoch 14/200\n",
            "1198/1198 [==============================] - 8s 6ms/step - loss: 0.0035 - accuracy: 0.0017\n",
            "Epoch 15/200\n",
            "1198/1198 [==============================] - 8s 6ms/step - loss: 0.0037 - accuracy: 0.0017\n",
            "Epoch 16/200\n",
            "1198/1198 [==============================] - 8s 6ms/step - loss: 0.0039 - accuracy: 0.0017\n",
            "Epoch 17/200\n",
            "1198/1198 [==============================] - 8s 6ms/step - loss: 0.0035 - accuracy: 0.0017\n",
            "Epoch 18/200\n",
            "1198/1198 [==============================] - 8s 6ms/step - loss: 0.0033 - accuracy: 0.0017\n",
            "Epoch 19/200\n",
            "1198/1198 [==============================] - 7s 6ms/step - loss: 0.0030 - accuracy: 0.0017\n",
            "Epoch 20/200\n",
            "1198/1198 [==============================] - 8s 6ms/step - loss: 0.0042 - accuracy: 0.0017\n",
            "Epoch 21/200\n",
            "1198/1198 [==============================] - 8s 6ms/step - loss: 0.0034 - accuracy: 0.0017\n",
            "Epoch 22/200\n",
            "1198/1198 [==============================] - 8s 6ms/step - loss: 0.0027 - accuracy: 0.0017\n",
            "Epoch 23/200\n",
            "1198/1198 [==============================] - 7s 6ms/step - loss: 0.0029 - accuracy: 0.0017\n",
            "Epoch 24/200\n",
            "1198/1198 [==============================] - 7s 6ms/step - loss: 0.0029 - accuracy: 0.0017\n",
            "Epoch 25/200\n",
            "1198/1198 [==============================] - 8s 6ms/step - loss: 0.0025 - accuracy: 0.0017\n",
            "Epoch 26/200\n",
            "1198/1198 [==============================] - 8s 6ms/step - loss: 0.0024 - accuracy: 0.0017\n",
            "Epoch 27/200\n",
            "1198/1198 [==============================] - 8s 6ms/step - loss: 0.0025 - accuracy: 0.0017\n",
            "Epoch 28/200\n",
            "1198/1198 [==============================] - 8s 6ms/step - loss: 0.0025 - accuracy: 0.0017\n",
            "Epoch 29/200\n",
            "1198/1198 [==============================] - 8s 6ms/step - loss: 0.0025 - accuracy: 0.0017\n",
            "Epoch 30/200\n",
            "1198/1198 [==============================] - 8s 6ms/step - loss: 0.0026 - accuracy: 0.0017\n",
            "Epoch 31/200\n",
            "1198/1198 [==============================] - 8s 6ms/step - loss: 0.0028 - accuracy: 0.0017\n",
            "Epoch 32/200\n",
            "1198/1198 [==============================] - 8s 6ms/step - loss: 0.0026 - accuracy: 0.0017\n",
            "Epoch 33/200\n",
            "1198/1198 [==============================] - 8s 6ms/step - loss: 0.0024 - accuracy: 0.0017\n",
            "Epoch 34/200\n",
            "1198/1198 [==============================] - 8s 6ms/step - loss: 0.0029 - accuracy: 0.0017\n",
            "Epoch 35/200\n",
            "1198/1198 [==============================] - 8s 6ms/step - loss: 0.0025 - accuracy: 0.0017\n",
            "Epoch 36/200\n",
            "1198/1198 [==============================] - 8s 6ms/step - loss: 0.0022 - accuracy: 0.0017\n",
            "Epoch 37/200\n",
            "1198/1198 [==============================] - 8s 6ms/step - loss: 0.0025 - accuracy: 0.0017\n",
            "Epoch 38/200\n",
            "1198/1198 [==============================] - 8s 6ms/step - loss: 0.0022 - accuracy: 0.0017\n",
            "Epoch 39/200\n",
            "1198/1198 [==============================] - 8s 6ms/step - loss: 0.0024 - accuracy: 0.0017\n",
            "Epoch 40/200\n",
            "1198/1198 [==============================] - 8s 6ms/step - loss: 0.0022 - accuracy: 0.0017\n",
            "Epoch 41/200\n",
            "1198/1198 [==============================] - 8s 6ms/step - loss: 0.0021 - accuracy: 0.0017\n",
            "Epoch 42/200\n",
            "1198/1198 [==============================] - 8s 7ms/step - loss: 0.0022 - accuracy: 0.0017\n",
            "Epoch 43/200\n",
            "1198/1198 [==============================] - 8s 7ms/step - loss: 0.0022 - accuracy: 0.0017\n",
            "Epoch 44/200\n",
            "1198/1198 [==============================] - 8s 7ms/step - loss: 0.0022 - accuracy: 0.0017\n",
            "Epoch 45/200\n",
            "1198/1198 [==============================] - 8s 7ms/step - loss: 0.0021 - accuracy: 0.0017\n",
            "Epoch 46/200\n",
            "1198/1198 [==============================] - 8s 7ms/step - loss: 0.0021 - accuracy: 0.0017\n",
            "Epoch 47/200\n",
            "1198/1198 [==============================] - 8s 7ms/step - loss: 0.0019 - accuracy: 0.0017\n",
            "Epoch 48/200\n",
            "1198/1198 [==============================] - 8s 7ms/step - loss: 0.0019 - accuracy: 0.0017\n",
            "Epoch 49/200\n",
            "1198/1198 [==============================] - 8s 7ms/step - loss: 0.0019 - accuracy: 0.0017\n",
            "Epoch 50/200\n",
            "1198/1198 [==============================] - 8s 7ms/step - loss: 0.0019 - accuracy: 0.0017\n",
            "Epoch 51/200\n",
            "1198/1198 [==============================] - 8s 7ms/step - loss: 0.0020 - accuracy: 0.0017\n",
            "Epoch 52/200\n",
            "1198/1198 [==============================] - 8s 7ms/step - loss: 0.0022 - accuracy: 0.0017\n",
            "Epoch 53/200\n",
            "1198/1198 [==============================] - 8s 7ms/step - loss: 0.0020 - accuracy: 0.0017\n",
            "Epoch 54/200\n",
            "1198/1198 [==============================] - 8s 6ms/step - loss: 0.0021 - accuracy: 0.0017\n",
            "Epoch 55/200\n",
            "1198/1198 [==============================] - 8s 6ms/step - loss: 0.0020 - accuracy: 0.0017\n",
            "Epoch 56/200\n",
            "1198/1198 [==============================] - 8s 7ms/step - loss: 0.0020 - accuracy: 0.0017\n",
            "Epoch 57/200\n",
            "1198/1198 [==============================] - 8s 7ms/step - loss: 0.0020 - accuracy: 0.0017\n",
            "Epoch 58/200\n",
            "1198/1198 [==============================] - 8s 7ms/step - loss: 0.0017 - accuracy: 0.0017\n",
            "Epoch 59/200\n",
            "1198/1198 [==============================] - 8s 7ms/step - loss: 0.0019 - accuracy: 0.0017\n",
            "Epoch 60/200\n",
            "1198/1198 [==============================] - 8s 6ms/step - loss: 0.0022 - accuracy: 0.0017\n",
            "Epoch 61/200\n",
            "1198/1198 [==============================] - 8s 7ms/step - loss: 0.0018 - accuracy: 0.0017\n",
            "Epoch 62/200\n",
            "1198/1198 [==============================] - 8s 7ms/step - loss: 0.0016 - accuracy: 0.0017\n",
            "Epoch 63/200\n",
            "1198/1198 [==============================] - 8s 7ms/step - loss: 0.0017 - accuracy: 0.0017\n",
            "Epoch 64/200\n",
            "1198/1198 [==============================] - 8s 7ms/step - loss: 0.0017 - accuracy: 0.0017\n",
            "Epoch 65/200\n",
            "1198/1198 [==============================] - 8s 7ms/step - loss: 0.0021 - accuracy: 0.0017\n",
            "Epoch 66/200\n",
            "1198/1198 [==============================] - 8s 7ms/step - loss: 0.0018 - accuracy: 0.0017\n",
            "Epoch 67/200\n",
            "1198/1198 [==============================] - 8s 7ms/step - loss: 0.0016 - accuracy: 0.0017\n",
            "Epoch 68/200\n",
            "1198/1198 [==============================] - 8s 6ms/step - loss: 0.0017 - accuracy: 0.0017\n",
            "Epoch 69/200\n",
            "1198/1198 [==============================] - 8s 6ms/step - loss: 0.0019 - accuracy: 0.0017\n",
            "Epoch 70/200\n",
            "1198/1198 [==============================] - 8s 7ms/step - loss: 0.0015 - accuracy: 0.0017\n",
            "Epoch 71/200\n",
            "1198/1198 [==============================] - 8s 6ms/step - loss: 0.0015 - accuracy: 0.0017\n",
            "Epoch 72/200\n",
            "1198/1198 [==============================] - 8s 6ms/step - loss: 0.0017 - accuracy: 0.0017\n",
            "Epoch 73/200\n",
            "1198/1198 [==============================] - 8s 6ms/step - loss: 0.0014 - accuracy: 0.0017\n",
            "Epoch 74/200\n",
            "1198/1198 [==============================] - 8s 6ms/step - loss: 0.0015 - accuracy: 0.0017\n",
            "Epoch 75/200\n",
            "1198/1198 [==============================] - 8s 6ms/step - loss: 0.0014 - accuracy: 0.0017\n",
            "Epoch 76/200\n",
            "1198/1198 [==============================] - 8s 6ms/step - loss: 0.0015 - accuracy: 0.0017\n",
            "Epoch 77/200\n",
            "1198/1198 [==============================] - 8s 6ms/step - loss: 0.0016 - accuracy: 0.0017\n",
            "Epoch 78/200\n",
            "1198/1198 [==============================] - 8s 6ms/step - loss: 0.0017 - accuracy: 0.0017\n",
            "Epoch 79/200\n",
            "1198/1198 [==============================] - 8s 6ms/step - loss: 0.0018 - accuracy: 0.0017\n",
            "Epoch 80/200\n",
            "1198/1198 [==============================] - 8s 6ms/step - loss: 0.0016 - accuracy: 0.0017\n",
            "Epoch 81/200\n",
            "1198/1198 [==============================] - 8s 6ms/step - loss: 0.0015 - accuracy: 0.0017\n",
            "Epoch 82/200\n",
            "1198/1198 [==============================] - 8s 6ms/step - loss: 0.0014 - accuracy: 0.0017\n",
            "Epoch 83/200\n",
            "1198/1198 [==============================] - 8s 6ms/step - loss: 0.0014 - accuracy: 0.0017\n",
            "Epoch 84/200\n",
            "1198/1198 [==============================] - 8s 7ms/step - loss: 0.0015 - accuracy: 0.0017\n",
            "Epoch 85/200\n",
            "1198/1198 [==============================] - 8s 6ms/step - loss: 0.0015 - accuracy: 0.0017\n",
            "Epoch 86/200\n",
            "1198/1198 [==============================] - 8s 6ms/step - loss: 0.0013 - accuracy: 0.0017\n",
            "Epoch 87/200\n",
            "1198/1198 [==============================] - 8s 6ms/step - loss: 0.0016 - accuracy: 0.0017\n",
            "Epoch 88/200\n",
            "1198/1198 [==============================] - 8s 7ms/step - loss: 0.0014 - accuracy: 0.0017\n",
            "Epoch 89/200\n",
            "1198/1198 [==============================] - 8s 6ms/step - loss: 0.0015 - accuracy: 0.0017\n",
            "Epoch 90/200\n",
            "1198/1198 [==============================] - 8s 6ms/step - loss: 0.0014 - accuracy: 0.0017\n",
            "Epoch 91/200\n",
            "1198/1198 [==============================] - 8s 6ms/step - loss: 0.0013 - accuracy: 0.0017\n",
            "Epoch 92/200\n",
            "1198/1198 [==============================] - 8s 6ms/step - loss: 0.0015 - accuracy: 0.0017\n",
            "Epoch 93/200\n",
            "1198/1198 [==============================] - 8s 6ms/step - loss: 0.0013 - accuracy: 0.0017\n",
            "Epoch 94/200\n",
            "1198/1198 [==============================] - 8s 6ms/step - loss: 0.0014 - accuracy: 0.0017\n",
            "Epoch 95/200\n",
            "1198/1198 [==============================] - 8s 6ms/step - loss: 0.0012 - accuracy: 0.0017\n",
            "Epoch 96/200\n",
            "1198/1198 [==============================] - 8s 6ms/step - loss: 0.0012 - accuracy: 0.0017\n",
            "Epoch 97/200\n",
            "1198/1198 [==============================] - 8s 6ms/step - loss: 0.0012 - accuracy: 0.0017\n",
            "Epoch 98/200\n",
            "1198/1198 [==============================] - 8s 6ms/step - loss: 0.0012 - accuracy: 0.0017\n",
            "Epoch 99/200\n",
            "1198/1198 [==============================] - 8s 7ms/step - loss: 0.0014 - accuracy: 0.0017\n",
            "Epoch 100/200\n",
            "1198/1198 [==============================] - 8s 7ms/step - loss: 0.0012 - accuracy: 0.0017\n",
            "Epoch 101/200\n",
            "1198/1198 [==============================] - 8s 7ms/step - loss: 0.0012 - accuracy: 0.0017\n",
            "Epoch 102/200\n",
            "1198/1198 [==============================] - 8s 7ms/step - loss: 0.0015 - accuracy: 0.0017\n",
            "Epoch 103/200\n",
            "1198/1198 [==============================] - 9s 7ms/step - loss: 0.0013 - accuracy: 0.0017\n",
            "Epoch 104/200\n",
            "1198/1198 [==============================] - 9s 7ms/step - loss: 0.0013 - accuracy: 0.0017\n",
            "Epoch 105/200\n",
            "1198/1198 [==============================] - 8s 7ms/step - loss: 0.0011 - accuracy: 0.0017\n",
            "Epoch 106/200\n",
            "1198/1198 [==============================] - 8s 7ms/step - loss: 0.0012 - accuracy: 0.0017\n",
            "Epoch 107/200\n",
            "1198/1198 [==============================] - 8s 7ms/step - loss: 0.0012 - accuracy: 0.0017\n",
            "Epoch 108/200\n",
            "1198/1198 [==============================] - 8s 7ms/step - loss: 0.0014 - accuracy: 0.0017\n",
            "Epoch 109/200\n",
            "1198/1198 [==============================] - 8s 7ms/step - loss: 0.0012 - accuracy: 0.0017\n",
            "Epoch 110/200\n",
            "1198/1198 [==============================] - 8s 7ms/step - loss: 0.0013 - accuracy: 0.0017\n",
            "Epoch 111/200\n",
            "1198/1198 [==============================] - 8s 7ms/step - loss: 0.0013 - accuracy: 0.0017\n",
            "Epoch 112/200\n",
            "1198/1198 [==============================] - 8s 7ms/step - loss: 0.0013 - accuracy: 0.0017\n",
            "Epoch 113/200\n",
            "1198/1198 [==============================] - 8s 7ms/step - loss: 0.0012 - accuracy: 0.0017\n",
            "Epoch 114/200\n",
            "1198/1198 [==============================] - 8s 7ms/step - loss: 0.0013 - accuracy: 0.0017\n",
            "Epoch 115/200\n",
            "1198/1198 [==============================] - 8s 7ms/step - loss: 0.0012 - accuracy: 0.0017\n",
            "Epoch 116/200\n",
            "1198/1198 [==============================] - 8s 7ms/step - loss: 0.0013 - accuracy: 0.0017\n",
            "Epoch 117/200\n",
            "1198/1198 [==============================] - 8s 7ms/step - loss: 0.0012 - accuracy: 0.0017\n",
            "Epoch 118/200\n",
            "1198/1198 [==============================] - 8s 7ms/step - loss: 0.0015 - accuracy: 0.0017\n",
            "Epoch 119/200\n",
            "1198/1198 [==============================] - 8s 7ms/step - loss: 0.0012 - accuracy: 0.0017\n",
            "Epoch 120/200\n",
            "1198/1198 [==============================] - 8s 7ms/step - loss: 0.0011 - accuracy: 0.0017\n",
            "Epoch 121/200\n",
            "1198/1198 [==============================] - 8s 7ms/step - loss: 0.0012 - accuracy: 0.0017\n",
            "Epoch 122/200\n",
            "1198/1198 [==============================] - 8s 7ms/step - loss: 0.0011 - accuracy: 0.0017\n",
            "Epoch 123/200\n",
            "1198/1198 [==============================] - 8s 7ms/step - loss: 0.0011 - accuracy: 0.0017\n",
            "Epoch 124/200\n",
            "1198/1198 [==============================] - 9s 8ms/step - loss: 0.0012 - accuracy: 0.0017\n",
            "Epoch 125/200\n",
            "1198/1198 [==============================] - 9s 8ms/step - loss: 0.0013 - accuracy: 0.0017\n",
            "Epoch 126/200\n",
            "1198/1198 [==============================] - 10s 8ms/step - loss: 0.0011 - accuracy: 0.0017\n",
            "Epoch 127/200\n",
            "1198/1198 [==============================] - 9s 7ms/step - loss: 0.0011 - accuracy: 0.0017\n",
            "Epoch 128/200\n",
            "1198/1198 [==============================] - 9s 8ms/step - loss: 0.0011 - accuracy: 0.0017\n",
            "Epoch 129/200\n",
            "1198/1198 [==============================] - 9s 8ms/step - loss: 0.0011 - accuracy: 0.0017\n",
            "Epoch 130/200\n",
            "1198/1198 [==============================] - 9s 8ms/step - loss: 0.0012 - accuracy: 0.0017\n",
            "Epoch 131/200\n",
            "1198/1198 [==============================] - 9s 7ms/step - loss: 0.0011 - accuracy: 0.0017\n",
            "Epoch 132/200\n",
            "1198/1198 [==============================] - 8s 7ms/step - loss: 0.0011 - accuracy: 0.0017\n",
            "Epoch 133/200\n",
            "1198/1198 [==============================] - 9s 7ms/step - loss: 0.0010 - accuracy: 0.0017\n",
            "Epoch 134/200\n",
            "1198/1198 [==============================] - 9s 7ms/step - loss: 0.0011 - accuracy: 0.0017\n",
            "Epoch 135/200\n",
            "1198/1198 [==============================] - 8s 7ms/step - loss: 0.0010 - accuracy: 0.0017\n",
            "Epoch 136/200\n",
            "1198/1198 [==============================] - 8s 7ms/step - loss: 0.0011 - accuracy: 0.0017\n",
            "Epoch 137/200\n",
            "1198/1198 [==============================] - 8s 7ms/step - loss: 0.0010 - accuracy: 0.0017\n",
            "Epoch 138/200\n",
            "1198/1198 [==============================] - 9s 7ms/step - loss: 0.0014 - accuracy: 0.0017\n",
            "Epoch 139/200\n",
            "1198/1198 [==============================] - 10s 8ms/step - loss: 0.0010 - accuracy: 0.0017\n",
            "Epoch 140/200\n",
            "1198/1198 [==============================] - 10s 8ms/step - loss: 0.0011 - accuracy: 0.0017\n",
            "Epoch 141/200\n",
            "1198/1198 [==============================] - 10s 8ms/step - loss: 0.0011 - accuracy: 0.0017\n",
            "Epoch 142/200\n",
            "1198/1198 [==============================] - 9s 8ms/step - loss: 0.0011 - accuracy: 0.0017\n",
            "Epoch 143/200\n",
            "1198/1198 [==============================] - 8s 7ms/step - loss: 0.0010 - accuracy: 0.0017\n",
            "Epoch 144/200\n",
            "1198/1198 [==============================] - 8s 6ms/step - loss: 0.0011 - accuracy: 0.0017\n",
            "Epoch 145/200\n",
            "1198/1198 [==============================] - 8s 6ms/step - loss: 0.0011 - accuracy: 0.0017\n",
            "Epoch 146/200\n",
            "1198/1198 [==============================] - 8s 7ms/step - loss: 0.0011 - accuracy: 0.0017\n",
            "Epoch 147/200\n",
            "1198/1198 [==============================] - 8s 6ms/step - loss: 9.6543e-04 - accuracy: 0.0017\n",
            "Epoch 148/200\n",
            "1198/1198 [==============================] - 8s 7ms/step - loss: 0.0011 - accuracy: 0.0017\n",
            "Epoch 149/200\n",
            "1198/1198 [==============================] - 8s 7ms/step - loss: 0.0011 - accuracy: 0.0017\n",
            "Epoch 150/200\n",
            "1198/1198 [==============================] - 8s 6ms/step - loss: 0.0011 - accuracy: 0.0017\n",
            "Epoch 151/200\n",
            "1198/1198 [==============================] - 8s 7ms/step - loss: 0.0012 - accuracy: 0.0017\n",
            "Epoch 152/200\n",
            "1198/1198 [==============================] - 8s 7ms/step - loss: 0.0011 - accuracy: 0.0017\n",
            "Epoch 153/200\n",
            "1198/1198 [==============================] - 8s 7ms/step - loss: 0.0010 - accuracy: 0.0017\n",
            "Epoch 154/200\n",
            "1198/1198 [==============================] - 8s 7ms/step - loss: 0.0010 - accuracy: 0.0017\n",
            "Epoch 155/200\n",
            "1198/1198 [==============================] - 8s 7ms/step - loss: 0.0010 - accuracy: 0.0017\n",
            "Epoch 156/200\n",
            "1198/1198 [==============================] - 8s 7ms/step - loss: 9.7263e-04 - accuracy: 0.0017\n",
            "Epoch 157/200\n",
            "1198/1198 [==============================] - 8s 7ms/step - loss: 0.0010 - accuracy: 0.0017\n",
            "Epoch 158/200\n",
            "1198/1198 [==============================] - 8s 7ms/step - loss: 0.0011 - accuracy: 0.0017\n",
            "Epoch 159/200\n",
            "1198/1198 [==============================] - 8s 7ms/step - loss: 0.0011 - accuracy: 0.0017\n",
            "Epoch 160/200\n",
            "1198/1198 [==============================] - 8s 7ms/step - loss: 0.0010 - accuracy: 0.0017\n",
            "Epoch 161/200\n",
            "1198/1198 [==============================] - 8s 7ms/step - loss: 0.0012 - accuracy: 0.0017\n",
            "Epoch 162/200\n",
            "1198/1198 [==============================] - 8s 7ms/step - loss: 0.0012 - accuracy: 0.0017\n",
            "Epoch 163/200\n",
            "1198/1198 [==============================] - 8s 7ms/step - loss: 9.5519e-04 - accuracy: 0.0017\n",
            "Epoch 164/200\n",
            "1198/1198 [==============================] - 8s 7ms/step - loss: 9.9144e-04 - accuracy: 0.0017\n",
            "Epoch 165/200\n",
            "1198/1198 [==============================] - 8s 7ms/step - loss: 9.3661e-04 - accuracy: 0.0017\n",
            "Epoch 166/200\n",
            "1198/1198 [==============================] - 8s 7ms/step - loss: 0.0011 - accuracy: 0.0017\n",
            "Epoch 167/200\n",
            "1198/1198 [==============================] - 8s 7ms/step - loss: 0.0010 - accuracy: 0.0017\n",
            "Epoch 168/200\n",
            "1198/1198 [==============================] - 8s 7ms/step - loss: 0.0011 - accuracy: 0.0017\n",
            "Epoch 169/200\n",
            "1198/1198 [==============================] - 8s 7ms/step - loss: 8.8799e-04 - accuracy: 0.0017\n",
            "Epoch 170/200\n",
            "1198/1198 [==============================] - 8s 7ms/step - loss: 9.3860e-04 - accuracy: 0.0017\n",
            "Epoch 171/200\n",
            "1198/1198 [==============================] - 8s 7ms/step - loss: 0.0010 - accuracy: 0.0017\n",
            "Epoch 172/200\n",
            "1198/1198 [==============================] - 8s 7ms/step - loss: 9.5327e-04 - accuracy: 0.0017\n",
            "Epoch 173/200\n",
            "1198/1198 [==============================] - 8s 7ms/step - loss: 0.0011 - accuracy: 0.0017\n",
            "Epoch 174/200\n",
            "1198/1198 [==============================] - 8s 7ms/step - loss: 9.4079e-04 - accuracy: 0.0017\n",
            "Epoch 175/200\n",
            "1198/1198 [==============================] - 8s 7ms/step - loss: 9.2231e-04 - accuracy: 0.0017\n",
            "Epoch 176/200\n",
            "1198/1198 [==============================] - 8s 7ms/step - loss: 9.0210e-04 - accuracy: 0.0017\n",
            "Epoch 177/200\n",
            "1198/1198 [==============================] - 8s 7ms/step - loss: 9.8098e-04 - accuracy: 0.0017\n",
            "Epoch 178/200\n",
            "1198/1198 [==============================] - 8s 7ms/step - loss: 9.1509e-04 - accuracy: 0.0017\n",
            "Epoch 179/200\n",
            "1198/1198 [==============================] - 8s 7ms/step - loss: 9.5020e-04 - accuracy: 0.0017\n",
            "Epoch 180/200\n",
            "1198/1198 [==============================] - 8s 6ms/step - loss: 8.6664e-04 - accuracy: 0.0017\n",
            "Epoch 181/200\n",
            "1198/1198 [==============================] - 8s 6ms/step - loss: 0.0010 - accuracy: 0.0017\n",
            "Epoch 182/200\n",
            "1198/1198 [==============================] - 8s 6ms/step - loss: 9.6124e-04 - accuracy: 0.0017\n",
            "Epoch 183/200\n",
            "1198/1198 [==============================] - 8s 7ms/step - loss: 0.0012 - accuracy: 0.0017\n",
            "Epoch 184/200\n",
            "1198/1198 [==============================] - 8s 7ms/step - loss: 0.0011 - accuracy: 0.0017\n",
            "Epoch 185/200\n",
            "1198/1198 [==============================] - 8s 7ms/step - loss: 0.0010 - accuracy: 0.0017\n",
            "Epoch 186/200\n",
            "1198/1198 [==============================] - 8s 7ms/step - loss: 9.5607e-04 - accuracy: 0.0017\n",
            "Epoch 187/200\n",
            "1198/1198 [==============================] - 8s 7ms/step - loss: 0.0011 - accuracy: 0.0017\n",
            "Epoch 188/200\n",
            "1198/1198 [==============================] - 8s 7ms/step - loss: 9.1279e-04 - accuracy: 0.0017\n",
            "Epoch 189/200\n",
            "1198/1198 [==============================] - 8s 7ms/step - loss: 9.0989e-04 - accuracy: 0.0017\n",
            "Epoch 190/200\n",
            "1198/1198 [==============================] - 8s 7ms/step - loss: 0.0011 - accuracy: 0.0017\n",
            "Epoch 191/200\n",
            "1198/1198 [==============================] - 8s 7ms/step - loss: 0.0010 - accuracy: 0.0017\n",
            "Epoch 192/200\n",
            "1198/1198 [==============================] - 8s 7ms/step - loss: 9.6490e-04 - accuracy: 0.0017\n",
            "Epoch 193/200\n",
            "1198/1198 [==============================] - 8s 7ms/step - loss: 8.9516e-04 - accuracy: 0.0017\n",
            "Epoch 194/200\n",
            "1198/1198 [==============================] - 8s 6ms/step - loss: 9.2287e-04 - accuracy: 0.0017\n",
            "Epoch 195/200\n",
            "1198/1198 [==============================] - 8s 6ms/step - loss: 8.8022e-04 - accuracy: 0.0017\n",
            "Epoch 196/200\n",
            "1198/1198 [==============================] - 8s 7ms/step - loss: 9.4812e-04 - accuracy: 0.0017\n",
            "Epoch 197/200\n",
            "1198/1198 [==============================] - 8s 7ms/step - loss: 0.0010 - accuracy: 0.0017\n",
            "Epoch 198/200\n",
            "1198/1198 [==============================] - 8s 6ms/step - loss: 8.7700e-04 - accuracy: 0.0017\n",
            "Epoch 199/200\n",
            "1198/1198 [==============================] - 8s 7ms/step - loss: 8.8896e-04 - accuracy: 0.0017\n",
            "Epoch 200/200\n",
            "1198/1198 [==============================] - 8s 7ms/step - loss: 0.0011 - accuracy: 0.0017\n"
          ],
          "name": "stdout"
        },
        {
          "output_type": "execute_result",
          "data": {
            "text/plain": [
              "<keras.callbacks.callbacks.History at 0x7f0f752c17b8>"
            ]
          },
          "metadata": {
            "tags": []
          },
          "execution_count": 105
        }
      ]
    },
    {
      "cell_type": "code",
      "metadata": {
        "id": "0cUH_jkcSIWQ",
        "colab": {
          "base_uri": "https://localhost:8080/",
          "height": 34
        },
        "outputId": "237a9126-564d-4cf1-8c75-68a8aa027db9"
      },
      "source": [
        "from sklearn.externals import joblib\n",
        "joblib.dump(regresor,'RNN_google_accion2.pkl')\n",
        "#reg=joblib.load('RNN_google_accion .pkl')"
      ],
      "execution_count": null,
      "outputs": [
        {
          "output_type": "execute_result",
          "data": {
            "text/plain": [
              "['RNN_google_accion2.pkl']"
            ]
          },
          "metadata": {
            "tags": []
          },
          "execution_count": 107
        }
      ]
    },
    {
      "cell_type": "code",
      "metadata": {
        "id": "tKFcUSfBRPjZ"
      },
      "source": [
        "#y/ys\n",
        "ds_total=pd.concat((ds_t['Open'],ds_te['Open']),axis=0)#columna"
      ],
      "execution_count": null,
      "outputs": []
    },
    {
      "cell_type": "code",
      "metadata": {
        "id": "KWrau1tmVL8X"
      },
      "source": [
        "inputs=ds_total[len(ds_total)-len(ds_te)-60:].values\n",
        "inputs=inputs.reshape(-1,1)\n",
        "#escalar los datos\n",
        "inputs=sc.transform(inputs)\n",
        "x_te=[]\n",
        "for i in range(60,80):\n",
        "  x_te.append(inputs[i-60:i,0])\n",
        "x_te=np.array(x_te)\n",
        "x_te=np.reshape(x_te,(x_te.shape[0],x_te.shape[1],1))"
      ],
      "execution_count": null,
      "outputs": []
    },
    {
      "cell_type": "code",
      "metadata": {
        "id": "i0yYtQgHWRjd"
      },
      "source": [
        "#prediccion de las predicciones\n",
        "predicted_stock_price=regresor.predict(x_te)"
      ],
      "execution_count": null,
      "outputs": []
    },
    {
      "cell_type": "code",
      "metadata": {
        "id": "SB-SXPqHYeam"
      },
      "source": [
        "#invertir los datos\n",
        "predicted_stock_price=sc.inverse_transform(predicted_stock_price)"
      ],
      "execution_count": null,
      "outputs": []
    },
    {
      "cell_type": "code",
      "metadata": {
        "id": "1Q0gSOnzYyWL"
      },
      "source": [
        "s1=np.array((predicted_stock_price,y)).T\n",
        "s2=np.reshape(s1,(20,2))\n",
        "s2=pd.DataFrame(s2)"
      ],
      "execution_count": null,
      "outputs": []
    },
    {
      "cell_type": "code",
      "metadata": {
        "id": "4Jxy1h8pZM4i",
        "colab": {
          "base_uri": "https://localhost:8080/",
          "height": 312
        },
        "outputId": "e453dc08-cf8b-48d9-fb14-bbbee0a05c4a"
      },
      "source": [
        "plt.plot(y,color='red',label='Precio real')\n",
        "plt.plot(predicted_stock_price,color='blue',label='precio predicho')\n",
        "plt.title('Prediccion con una RNN del valor de acciones de Google')\n",
        "plt.xlabel('fecha')\n",
        "plt.ylabel('precio de la accion de google')\n",
        "plt.legend()"
      ],
      "execution_count": null,
      "outputs": [
        {
          "output_type": "execute_result",
          "data": {
            "text/plain": [
              "<matplotlib.legend.Legend at 0x7f0f74e9cdd8>"
            ]
          },
          "metadata": {
            "tags": []
          },
          "execution_count": 113
        },
        {
          "output_type": "display_data",
          "data": {
            "image/png": "[encoded data removed]",
            "text/plain": [
              "<Figure size 432x288 with 1 Axes>"
            ]
          },
          "metadata": {
            "tags": [],
            "needs_background": "light"
          }
        }
      ]
    }
  ]
}